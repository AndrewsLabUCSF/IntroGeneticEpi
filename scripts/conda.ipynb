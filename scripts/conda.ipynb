{
  "cells": [
    {
      "cell_type": "raw",
      "metadata": {},
      "source": [
        "---\n",
        "output: html_document\n",
        "execute: \n",
        "  freeze: auto\n",
        "editor_options: \n",
        "  chunk_output_type: console\n",
        "---"
      ],
      "id": "5c0a627d"
    },
    {
      "cell_type": "markdown",
      "metadata": {},
      "source": [
        "# Conda Env \n",
        "\n",
        "\n",
        "```{yaml}\n",
        "#| eval: false\n",
        "name: genetic_epi\n",
        "channels:\n",
        "  - conda-forge\n",
        "  - bioconda\n",
        "dependencies:\n",
        "  - plink=1.90b6.21\n",
        "```\n",
        "\n",
        "```{bash}\n",
        "#| eval: false\n",
        "conda env create -f env/genetic_epi.yml\n",
        "```"
      ],
      "id": "54ec641d"
    }
  ],
  "metadata": {
    "kernelspec": {
      "display_name": "Python 3",
      "language": "python",
      "name": "python3"
    }
  },
  "nbformat": 4,
  "nbformat_minor": 5
}